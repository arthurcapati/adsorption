{
 "cells": [
  {
   "cell_type": "code",
   "execution_count": 44,
   "metadata": {},
   "outputs": [],
   "source": [
    "import pandas as pd\n",
    "import numpy as np\n",
    "import matplotlib.pyplot as plt\n",
    "from typing import Callable, Tuple\n",
    "from scipy.integrate import quad, solve_ivp"
   ]
  },
  {
   "cell_type": "code",
   "execution_count": 45,
   "metadata": {},
   "outputs": [],
   "source": [
    "class IsotermAdsorption:\n",
    "    \n",
    "    @staticmethod\n",
    "    def langmuir(Ce: float, qml: float, Kl: float):\n",
    "        return qml*Kl*Ce/(1+Kl*Ce)\n",
    "    \n",
    "    @staticmethod\n",
    "    def freundlich(Ce: float, Kf: float, nf: float):\n",
    "        return Kf*Ce**(1/nf)\n",
    "    \n",
    "    @staticmethod\n",
    "    def plot_isoterm(isoterm: Callable, dict_isoterm: dict, Ce:float, n_point=100, x_unit:str=None, y_unit: str=None):\n",
    "        Ce = np.linspace(0,Ce,n_point)\n",
    "        q = isoterm(Ce, **dict_isoterm)\n",
    "        \n",
    "        x_label = \"Concentração\"\n",
    "        if x_unit:\n",
    "            x_label = \"%s (%s)\" %(x_label, x_unit)\n",
    "        y_label = \"Capacidade de Adsorção\"\n",
    "        if y_unit:\n",
    "            y_label = \"%s (%s)\" %(y_label, y_unit)\n",
    "            \n",
    "        plt.plot(Ce, q)          \n",
    "        plt.xlabel(x_label)\n",
    "        plt.ylabel(y_label)\n",
    "        plt.title(\"Isoterma de %s\" % isoterm.__name__)\n",
    "        plt.grid()"
   ]
  },
  {
   "cell_type": "code",
   "execution_count": 46,
   "metadata": {},
   "outputs": [],
   "source": [
    "class KineticsAdorption:\n",
    "    \n",
    "    @staticmethod\n",
    "    def first_order(q, qe, k):\n",
    "        return k*(qe- q)\n",
    "    \n",
    "    @staticmethod\n",
    "    def second_order(q, qe, k):\n",
    "        return k*(qe- q)**2\n",
    "    \n",
    "    @staticmethod\n",
    "    def plot_kinetics(kinetics: Callable, dict_kinetics: dict, time:float, n_point=100, x_unit:str=None, y_unit: str=None):\n",
    "        res = solve_ivp(lambda t,y : kinetics(y[0], **dict_kinetics), (0,time), [0], max_step=0.1)\n",
    "        \n",
    "        x_label = \"Tempo\"\n",
    "        if x_unit:\n",
    "            x_label = \"%s (%s)\" %(x_label, x_unit)\n",
    "        y_label = \"Capacidade de Adsorção\"\n",
    "        if y_unit:\n",
    "            y_label = \"%s (%s)\" %(y_label, y_unit)\n",
    "            \n",
    "        plt.plot(res.t, res.y[0])          \n",
    "        plt.xlabel(x_label)\n",
    "        plt.ylabel(y_label)\n",
    "        name = kinetics.__name__.split(\"_\")[0]\n",
    "        name = KineticsAdorption.__translate(name)\n",
    "        plt.title(\"Cinética de pseudo %s ordem\" % name)\n",
    "        plt.grid()\n",
    "        \n",
    "    @staticmethod\n",
    "    def __translate(name: str):\n",
    "        dict_tranlate={\"first\": \"primeira\", \"second\": \"segunda\"}\n",
    "        response = dict_tranlate[name]\n",
    "        return response"
   ]
  },
  {
   "cell_type": "code",
   "execution_count": 47,
   "metadata": {},
   "outputs": [],
   "source": [
    "class AdsorptionTank:\n",
    "    def __init__(self, isoterm: Callable, dict_isoterm: dict, knetics: Callable, dict_knetics: dict):\n",
    "        self.isoterm = isoterm\n",
    "        self.dict_isoterm = dict_isoterm\n",
    "        self.knetics = knetics\n",
    "        self.dict_knetics = dict_knetics\n",
    "        self.concentration = None\n",
    "        self.adsorption_capacity = None\n",
    "        self.time = None\n",
    "    \n",
    "    @staticmethod\n",
    "    def __edo(t, y, isoterm, dict_isoterm, knetics, dict_knetics, mass_adsorption, volume) -> list:\n",
    "        c = y[0]\n",
    "        q = y[1]\n",
    "        qe = isoterm(c,**dict_isoterm)\n",
    "        dq = knetics(q, qe, **dict_knetics)\n",
    "        dc = -dq*mass_adsorption/volume\n",
    "    \n",
    "        return [dc, dq]\n",
    "    \n",
    "    def calculate_concentration(self, concentration, mass_adsorption, volume, time, inplace=True)-> Tuple[np.array, np.array]:\n",
    "        res = solve_ivp(AdsorptionTank.__edo, (0,time), (concentration, 0), max_step=0.1,\n",
    "                        args=(self.isoterm, self.dict_isoterm, self.knetics, self.dict_knetics, mass_adsorption, volume))\n",
    "        if inplace:\n",
    "            self.concentration = res.y[0]\n",
    "            self.adsorption_capacity = res.y[1]\n",
    "            self.time = res.t\n",
    "        \n",
    "        return res.t, res.y[0]\n",
    "    \n",
    "    def plot_concentration(self, x_unit:str= None, y_unit:str=None):\n",
    "        plt.plot(self.time,self.concentration)\n",
    "        x_label = \"Tempo\"\n",
    "        if x_unit:\n",
    "            x_label = \"%s (%s)\" % (x_label, x_unit)\n",
    "        y_label =  \"Concentração\"   \n",
    "        if y_unit:\n",
    "            y_label = \"%s (%s)\" % (y_label, y_unit)\n",
    "        plt.xlabel(x_label)\n",
    "        plt.ylabel(y_label)\n",
    "        plt.title(\"Concentração vs Tempo\")\n",
    "        plt.grid()\n",
    "        \n",
    "    def plot_recovery(self, x_unit:str= None):\n",
    "        recovery = 1 - self.concentration/self.concentration[0]\n",
    "        plt.plot(self.time,recovery)\n",
    "        x_label = \"Tempo\"\n",
    "        if x_unit:\n",
    "            x_label = \"%s (%s)\" % (x_label, x_unit)\n",
    "        plt.xlabel(x_label)\n",
    "        plt.ylabel(\"Porcentagem de Recuperação\")\n",
    "        plt.title(\"Recuperação vs Tempo\")\n",
    "        plt.grid()"
   ]
  },
  {
   "cell_type": "code",
   "execution_count": 48,
   "metadata": {},
   "outputs": [],
   "source": [
    "isoterm_dict = {'qml': 120.48, 'Kl': 1.59e-2}\n",
    "kinetics_dic = {'k': .12}\n",
    "tank = AdsorptionTank(IsotermAdsorption.langmuir, isoterm_dict, KineticsAdorption.second_order, knetics_dic)\n",
    "t, c = tank.calculate_concentration(100, 2, 1, 5)"
   ]
  },
  {
   "cell_type": "code",
   "execution_count": 49,
   "metadata": {},
   "outputs": [
    {
     "data": {
      "image/png": "[encoded data removed]",
      "text/plain": [
       "<Figure size 432x288 with 1 Axes>"
      ]
     },
     "metadata": {
      "needs_background": "light"
     },
     "output_type": "display_data"
    }
   ],
   "source": [
    "tank.plot_concentration()"
   ]
  },
  {
   "cell_type": "code",
   "execution_count": 50,
   "metadata": {},
   "outputs": [
    {
     "data": {
      "image/png": "[encoded data removed]",
      "text/plain": [
       "<Figure size 432x288 with 1 Axes>"
      ]
     },
     "metadata": {
      "needs_background": "light"
     },
     "output_type": "display_data"
    }
   ],
   "source": [
    "tank.plot_recovery()"
   ]
  },
  {
   "cell_type": "code",
   "execution_count": null,
   "metadata": {},
   "outputs": [],
   "source": []
  }
 ],
 "metadata": {
  "kernelspec": {
   "display_name": "Python 3",
   "language": "python",
   "name": "python3"
  },
  "latex_envs": {
   "LaTeX_envs_menu_present": true,
   "autoclose": false,
   "autocomplete": true,
   "bibliofile": "biblio.bib",
   "cite_by": "apalike",
   "current_citInitial": 1,
   "eqLabelWithNumbers": true,
   "eqNumInitial": 1,
   "hotkeys": {
    "equation": "Ctrl-E",
    "itemize": "Ctrl-I"
   },
   "labels_anchors": false,
   "latex_user_defs": false,
   "report_style_numbering": false,
   "user_envs_cfg": false
  },
  "varInspector": {
   "cols": {
    "lenName": 16,
    "lenType": 16,
    "lenVar": 40
   },
   "kernels_config": {
    "python": {
     "delete_cmd_postfix": "",
     "delete_cmd_prefix": "del ",
     "library": "var_list.py",
     "varRefreshCmd": "print(var_dic_list())"
    },
    "r": {
     "delete_cmd_postfix": ") ",
     "delete_cmd_prefix": "rm(",
     "library": "var_list.r",
     "varRefreshCmd": "cat(var_dic_list()) "
    }
   },
   "types_to_exclude": [
    "module",
    "function",
    "builtin_function_or_method",
    "instance",
    "_Feature"
   ],
   "window_display": false
  }
 },
 "nbformat": 4,
 "nbformat_minor": 2
}
