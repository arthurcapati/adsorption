{
 "cells": [
  {
   "cell_type": "code",
   "execution_count": 1,
   "metadata": {},
   "outputs": [],
   "source": [
    "from typing import Tuple\n",
    "import pandas as pd\n",
    "import numpy as np\n"
   ]
  },
  {
   "cell_type": "code",
   "execution_count": 3,
   "metadata": {},
   "outputs": [],
   "source": [
    "class Admensional:\n",
    "    \n",
    "    @staticmethod\n",
    "    def reynolds(diametro:float, rotacao:float, densidade:float, viscosidade_dinamica:float) -> float:\n",
    "        return rotacao*diametro**2*densidade/viscosidade_dinamica\n",
    "    \n",
    "    @staticmethod\n",
    "    def pow_number(potencia:float, rotacao:float, diametro:float, densidade:float) -> float:\n",
    "        return potencia/(rotacao**3*diametro**5*densidade)"
   ]
  },
  {
   "cell_type": "code",
   "execution_count": 4,
   "metadata": {},
   "outputs": [],
   "source": [
    "class Agitação:\n",
    "    \n",
    "    @staticmethod\n",
    "    def __calcula_potencia_com_numero_de_potencia(pow_number:float, rotacao:float, diametro:float, densidade:float) -> float:\n",
    "        return pow_number*rotacao**3*diametro**5*densidade\n",
    "    \n",
    "    @staticmethod\n",
    "    def __calcula_pow_number_by_reynolds(reynolds:float, impeler: str = 'pow_number_pitched_blade.xlsx') -> float:\n",
    "        df = df = pd.read_excel('dados/' + impeler)\n",
    "        max_reynold, max_pot = df[df['Reynolds']>=reynolds].values[0]\n",
    "        mim_reynold, mim_pot = df[df['Reynolds']<reynolds].values[-1]\n",
    "\n",
    "        N = max_pot - (max_reynold-reynolds)*(max_pot-mim_pot)/(max_reynold-mim_reynold)\n",
    "\n",
    "        return N  \n",
    "    @staticmethod\n",
    "    def calculate_potencia(diametro:float, rotacao:float, densidade:float, viscosidade_dinamica:float, \n",
    "                           impeler: str = 'pow_number_pitched_blade.xlsx')-> float:\n",
    "        reynolds = Admensional.reynolds(diametro=diametro, rotacao=rotacao, \n",
    "                                        densidade=densidade, viscosidade_dinamica=viscosidade_dinamica)\n",
    "        numero_de_potencia = Agitação.__calcula_pow_number_by_reynolds(reynolds=reynolds, impeler=impeler)\n",
    "        \n",
    "        potencia = Agitação.__calcula_potencia_com_numero_de_potencia(pow_number=numero_de_potencia,\n",
    "                                                                     rotacao=rotacao, diametro=diametro,\n",
    "                                                                     densidade=densidade)\n",
    "        \n",
    "        return potencia\n",
    "    \n",
    "    @staticmethod\n",
    "    def aumento_escala_por_semelhança_geometrica(potencia:float, rotacao1:float, rotacao2:float, diametro1:float,diametro2:float):\n",
    "        return potencia*rotacao1**3*diametro1**5/(rotacao2**3*diametro2**5)\n",
    "    \n",
    "    @staticmethod\n",
    "    def projeta_novo_tanque(diametro:float, rotacao: float, densidade:float, \n",
    "                            viscosidade_dinamica:float, impeler:str = 'pow_number_pitched_blade.xlsx') -> Tuple[float, dict]:\n",
    "        dimensoes = {'diametro': round(diametro,4),\n",
    "                     'altura': round(diametro,4),\n",
    "                     'impelidor': round(diametro/3,4),\n",
    "                     'altura_impelidor': round(diametro/3,4),\n",
    "                     'chicana': round(diametro/10,4)}\n",
    "        mixing_energy = Agitação.calculate_potencia(diametro=.1, rotacao=rotacao, densidade=densidade,\n",
    "                                                    viscosidade_dinamica=viscosidade_dinamica)\n",
    "        mixing_energy = Agitação.aumento_escala_por_semelhança_geometrica(mixing_energy, rotacao, rotacao, diametro/3, .1)\n",
    "        return mixing_energy, dimensoes"
   ]
  },
  {
   "cell_type": "code",
   "execution_count": 5,
   "metadata": {},
   "outputs": [],
   "source": [
    "rotacao = 4.1 # -> s-1\n",
    "densidade = 1000 # -> kg/m³\n",
    "viscosidade_dinamica = 0.001 # -> Pas*s\n",
    "\n",
    "volume = 2\n",
    "diametro = (4*volume/(np.pi))**(1/3)\n",
    "\n",
    "mixing_energy, dimensoes = Agitação.projeta_novo_tanque(diametro, rotacao, densidade, viscosidade_dinamica)"
   ]
  },
  {
   "cell_type": "code",
   "execution_count": 8,
   "metadata": {},
   "outputs": [
    {
     "name": "stdout",
     "output_type": "stream",
     "text": [
      "ENERGIA DE AGITAÇÃO[W]: 2020.2420795938351  E TANQUE DE DIMENSÕES[m] {'diametro': 1.3656, 'altura': 1.3656, 'impelidor': 0.4552, 'altura_impelidor': 0.4552, 'chicana': 0.1366} \n"
     ]
    }
   ],
   "source": [
    "print('ENERGIA DE AGITAÇÃO[W]: %s  E TANQUE DE DIMENSÕES[m] %s ' %(mixing_energy, dimensoes))"
   ]
  },
  {
   "cell_type": "code",
   "execution_count": null,
   "metadata": {},
   "outputs": [],
   "source": []
  }
 ],
 "metadata": {
  "kernelspec": {
   "display_name": "Python 3",
   "language": "python",
   "name": "python3"
  },
  "language_info": {
   "codemirror_mode": {
    "name": "ipython",
    "version": 3
   },
   "file_extension": ".py",
   "mimetype": "text/x-python",
   "name": "python",
   "nbconvert_exporter": "python",
   "pygments_lexer": "ipython3",
   "version": "3.7.3"
  },
  "latex_envs": {
   "LaTeX_envs_menu_present": true,
   "autoclose": false,
   "autocomplete": true,
   "bibliofile": "biblio.bib",
   "cite_by": "apalike",
   "current_citInitial": 1,
   "eqLabelWithNumbers": true,
   "eqNumInitial": 1,
   "hotkeys": {
    "equation": "Ctrl-E",
    "itemize": "Ctrl-I"
   },
   "labels_anchors": false,
   "latex_user_defs": false,
   "report_style_numbering": false,
   "user_envs_cfg": false
  },
  "varInspector": {
   "cols": {
    "lenName": 16,
    "lenType": 16,
    "lenVar": 40
   },
   "kernels_config": {
    "python": {
     "delete_cmd_postfix": "",
     "delete_cmd_prefix": "del ",
     "library": "var_list.py",
     "varRefreshCmd": "print(var_dic_list())"
    },
    "r": {
     "delete_cmd_postfix": ") ",
     "delete_cmd_prefix": "rm(",
     "library": "var_list.r",
     "varRefreshCmd": "cat(var_dic_list()) "
    }
   },
   "types_to_exclude": [
    "module",
    "function",
    "builtin_function_or_method",
    "instance",
    "_Feature"
   ],
   "window_display": false
  }
 },
 "nbformat": 4,
 "nbformat_minor": 2
}
